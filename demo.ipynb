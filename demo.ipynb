{
 "cells": [
  {
   "cell_type": "code",
   "execution_count": 1,
   "metadata": {},
   "outputs": [],
   "source": [
    "########################################\n",
    "# THIS DEMO REQUIRES INPUT PARAMETERS! #\n",
    "########################################\n",
    "\n",
    "# 1. A path to your JSON private key associated with a Google Cloud Project service account that has Google Earth Engine\n",
    "#    permissions. As of November 13, 2024, all users will need to use a Cloud project in order to access Earth Engine.\n",
    "#    More information how on to obtain a private key can be found here.\n",
    "#    https://developers.google.com/earth-engine/guides/service_account\n",
    "\n",
    "json_key = 'path/to/key'\n",
    "# Example path below #\n",
    "# json_key = r'C:\\Users\\ChrisRedfield\\Documents\\credentials\\robust-raster-cefdsh6482c.json'"
   ]
  },
  {
   "cell_type": "code",
   "execution_count": null,
   "metadata": {},
   "outputs": [],
   "source": [
    "##############\n",
    "# HOW TO RUN #\n",
    "##############\n",
    "\n",
    "# 1. Create the test Dask cluster. This will be used to auto-determine the appropriate block size\n",
    "#    for your machine! \n",
    "from robustraster import dask_cluster_manager\n",
    "\n",
    "dask_cluster = dask_cluster_manager.DaskClusterManager()\n",
    "dask_cluster.create_cluster(mode=\"test\")"
   ]
  },
  {
   "cell_type": "code",
   "execution_count": null,
   "metadata": {},
   "outputs": [],
   "source": [
    "# 2. Authenticate Google Earth Engine on all Dask workers.\n",
    "from robustraster import dask_plugins\n",
    "\n",
    "ee_plugin = dask_plugins.EEPlugin(json_key)\n",
    "dask_client = dask_cluster.get_dask_client\n",
    "dask_client.register_plugin(ee_plugin)"
   ]
  },
  {
   "cell_type": "code",
   "execution_count": 5,
   "metadata": {},
   "outputs": [],
   "source": [
    "# 3. Obtain the header information for the Earth Engine query and store it in an xarray object.\n",
    "#    This code does not do a full query for the data (yet)! \n",
    "\n",
    "#    In this example, we are just querying some data from Landsat 8 imagery \n",
    "#    over a small watershed for demo purposes.\n",
    "\n",
    "from robustraster import dataset_manager\n",
    "import ee\n",
    "import json\n",
    "\n",
    "# Although we authenticated Google Earth Engine on our Dask workers, we also need to authenticate\n",
    "# Google Earth Engine on our local machine!\n",
    "with open(json_key, 'r') as file:\n",
    "    data = json.load(file)\n",
    "credentials = ee.ServiceAccountCredentials(data[\"client_email\"], json_key)\n",
    "ee.Initialize(credentials = credentials, opt_url='https://earthengine-highvolume.googleapis.com')\n",
    "\n",
    "# Basic cloud masking algorithm\n",
    "def prep_sr_l8(image):\n",
    "    # Bit 0 - Fill\n",
    "    # Bit 1 - Dilated Cloud\n",
    "    # Bit 2 - Cirrus\n",
    "    # Bit 3 - Cloud\n",
    "    # Bit 4 - Cloud Shadow\n",
    "    qa_mask = image.select('QA_PIXEL').bitwiseAnd(int('11111', 2)).eq(0)\n",
    "    saturation_mask = image.select('QA_RADSAT').eq(0)\n",
    "\n",
    "    # Apply the scaling factors to the appropriate bands.\n",
    "    optical_bands = image.select('SR_B.*').multiply(0.0000275).add(-0.2)\n",
    "    thermal_bands = image.select('ST_B.*').multiply(0.00341802).add(149.0)\n",
    "\n",
    "    # Replace the original bands with the scaled ones and apply the masks.\n",
    "    return (image.addBands(optical_bands, None, True)\n",
    "                 .addBands(thermal_bands, None, True)\n",
    "                 .updateMask(qa_mask)\n",
    "                 .updateMask(saturation_mask))\n",
    "\n",
    "WSDemo = ee.FeatureCollection(\"projects/robust-raster/assets/boundaries/WSDemoSHP_Albers\")\n",
    "\n",
    "# This is a dictionary that my code requires. You don't have to touch anything here for demo purposes\n",
    "# (although it should work with anything, in theory. Feel free to change it if you'd like).\n",
    "# These parameters get stored and are used to generate the header information needed when we do the full\n",
    "# run.\n",
    "parameters = {\n",
    "            'collection': 'LANDSAT/LC08/C02/T1_L2',\n",
    "            'bands': ['SR_B4', 'SR_B5'],\n",
    "            'start_date': '2020-05-01',\n",
    "            'end_date': '2020-08-31',\n",
    "            'geometry': WSDemo.geometry(),\n",
    "            'crs': 'EPSG:3310',\n",
    "            'scale': 30,\n",
    "            'map_function': prep_sr_l8\n",
    "        }\n",
    "\n",
    "earth_engine = dataset_manager.EarthEngineDataset(parameters)"
   ]
  },
  {
   "cell_type": "code",
   "execution_count": 13,
   "metadata": {},
   "outputs": [],
   "source": [
    "# 4. Design your function here! \n",
    " \n",
    "# My target audience are for users who want to work with\n",
    "# data frames, so pandas data frames are the only data structures \n",
    "# that I support for writing functions. If you'd prefer working \n",
    "# with xarrays (or possible other data structures), submit an\n",
    "# issue and let me know!\n",
    "\n",
    "# For this demo, we do a basic NDVI calculation.\n",
    "def compute_ndvi(df):\n",
    "    # Perform your calculations\n",
    "    df['ndvi'] = (df['SR_B5'] - df['SR_B4']) / (df['SR_B5'] + df['SR_B4'])\n",
    "    return df"
   ]
  },
  {
   "cell_type": "code",
   "execution_count": null,
   "metadata": {},
   "outputs": [],
   "source": [
    "# 5. This code will auto-determine what the best block size\n",
    "#    should be for your machine. This helps to ensure computations don't \n",
    "#    go over resources available and crash your application. Skip this step\n",
    "#    if want to process the entire dataset as is.\n",
    "from robustraster import udf_manager\n",
    "\n",
    "user_defined_func = udf_manager.UserDefinedFunction()\n",
    "user_defined_func.tune_user_function(earth_engine, compute_ndvi, None)"
   ]
  },
  {
   "cell_type": "code",
   "execution_count": null,
   "metadata": {},
   "outputs": [],
   "source": [
    "# 6. Shutdown the test cluster and recreate a Dask cluster with\n",
    "#    full resources needed for the full computation.\n",
    "dask_client.shutdown()\n",
    "dask_cluster.create_cluster(mode=\"full\")"
   ]
  },
  {
   "cell_type": "code",
   "execution_count": null,
   "metadata": {},
   "outputs": [],
   "source": [
    "# 7. Rauthenticate the new Dask workers with Earth Engine.\n",
    "dask_client = dask_cluster.get_dask_client\n",
    "dask_client.register_plugin(ee_plugin)"
   ]
  },
  {
   "cell_type": "code",
   "execution_count": null,
   "metadata": {},
   "outputs": [],
   "source": [
    "# 8. Do the full run and write the results to a geoTIFF!\n",
    "result = user_defined_func.export_and_apply_user_function(earth_engine, compute_ndvi)"
   ]
  }
 ],
 "metadata": {
  "kernelspec": {
   "display_name": "robustrastertest",
   "language": "python",
   "name": "python3"
  },
  "language_info": {
   "codemirror_mode": {
    "name": "ipython",
    "version": 3
   },
   "file_extension": ".py",
   "mimetype": "text/x-python",
   "name": "python",
   "nbconvert_exporter": "python",
   "pygments_lexer": "ipython3",
   "version": "3.10.16"
  }
 },
 "nbformat": 4,
 "nbformat_minor": 2
}

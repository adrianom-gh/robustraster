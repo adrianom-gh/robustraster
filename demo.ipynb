{
 "cells": [
  {
   "cell_type": "code",
   "execution_count": null,
   "metadata": {},
   "outputs": [],
   "source": [
    "# 1. Write your custom function here!\n",
    "\n",
    "# For this demo, we do a basic NDVI calculation, inputting and returning a pandas DataFrame.\n",
    "# Note that the function must input and return a pandas DataFrame. This is a requirement.\n",
    "def compute_ndvi(df):\n",
    "    # Perform your calculations\n",
    "    df['ndvi'] = (df['SR_B5'] - df['SR_B4']) / (df['SR_B5'] + df['SR_B4'])\n",
    "    return df"
   ]
  },
  {
   "cell_type": "code",
   "execution_count": null,
   "metadata": {},
   "outputs": [],
   "source": [
    "# 2. Authenticate to Google Earth Engine, if you haven't done so already on your machine!\n",
    "import ee\n",
    "\n",
    "ee.Authenticate()"
   ]
  },
  {
   "cell_type": "code",
   "execution_count": 4,
   "metadata": {},
   "outputs": [],
   "source": [
    "# 3. Run some Earth Engine code! This will do a basic grab of some Landsat data, with some standard filtering. \n",
    "import ee\n",
    "ee.Initialize(opt_url='https://earthengine-highvolume.googleapis.com')\n",
    "\n",
    "# Basic cloud masking algorithm\n",
    "def prep_sr_l8(image):\n",
    "    # Bit 0 - Fill\n",
    "    # Bit 1 - Dilated Cloud\n",
    "    # Bit 2 - Cirrus\n",
    "    # Bit 3 - Cloud\n",
    "    # Bit 4 - Cloud Shadow\n",
    "    qa_mask = image.select('QA_PIXEL').bitwiseAnd(int('11111', 2)).eq(0)\n",
    "    saturation_mask = image.select('QA_RADSAT').eq(0)\n",
    "\n",
    "    # Apply the scaling factors to the appropriate bands.\n",
    "    optical_bands = image.select('SR_B.*').multiply(0.0000275).add(-0.2)\n",
    "    thermal_bands = image.select('ST_B.*').multiply(0.00341802).add(149.0)\n",
    "\n",
    "    # Replace the original bands with the scaled ones and apply the masks.\n",
    "    return (image.addBands(optical_bands, None, True)\n",
    "                 .addBands(thermal_bands, None, True)\n",
    "                 .updateMask(qa_mask)\n",
    "                 .updateMask(saturation_mask))\n",
    "\n",
    "Plumas_Boundaries = ee.FeatureCollection(\"projects/robust-raster/assets/boundaries/Plumas_National_forest\")\n",
    "ic = ee.ImageCollection('LANDSAT/LC08/C02/T1_L2').filterDate('2018-05-08', '2018-05-10').map(prep_sr_l8).select(['SR_B4', 'SR_B5'])"
   ]
  },
  {
   "cell_type": "code",
   "execution_count": null,
   "metadata": {},
   "outputs": [],
   "source": [
    "# 5. Preview the dataset and the results before doing a full run!\n",
    "# This allows users to inspect the structure and content of the data to ensure it behaves as expected prior to running a full computation.\n",
    "from robustraster import run\n",
    "\n",
    "run(\n",
    "    dataset=ic,\n",
    "    source=\"ee\",\n",
    "    dataset_kwargs={\n",
    "    'geometry': Plumas_Boundaries,\n",
    "    'crs': 'EPSG:3310',\n",
    "    'scale': 30\n",
    "},\n",
    "    user_function=compute_ndvi,\n",
    "    preview_dataset=True\n",
    ")"
   ]
  },
  {
   "cell_type": "code",
   "execution_count": null,
   "metadata": {},
   "outputs": [],
   "source": [
    "# 6. Do the full computation here!\n",
    "# Click on the link to the Dask dashboard to view the computation in real time!\n",
    "run(\n",
    "    dataset=ic,\n",
    "    source=\"ee\",\n",
    "    dataset_kwargs={\n",
    "    'geometry': Plumas_Boundaries,\n",
    "    'crs': 'EPSG:3310',\n",
    "    'scale': 30\n",
    "},\n",
    "    user_function=compute_ndvi,\n",
    "    export_kwargs={\n",
    "        \"flag\": \"GTiff\", \n",
    "        \"output_folder\": \"tiles33\", \n",
    "        \"vrt\": True},\n",
    "    dask_mode=\"custom\",\n",
    "    dask_kwargs={\n",
    "        \"n_workers\": 4,\n",
    "        \"threads_per_worker\": 1,\n",
    "        \"memory_limit\": \"1GB\"\n",
    "    }\n",
    ")"
   ]
  }
 ],
 "metadata": {
  "kernelspec": {
   "display_name": "rredit",
   "language": "python",
   "name": "python3"
  },
  "language_info": {
   "codemirror_mode": {
    "name": "ipython",
    "version": 3
   },
   "file_extension": ".py",
   "mimetype": "text/x-python",
   "name": "python",
   "nbconvert_exporter": "python",
   "pygments_lexer": "ipython3",
   "version": "3.10.17"
  }
 },
 "nbformat": 4,
 "nbformat_minor": 2
}
